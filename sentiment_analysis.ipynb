{
 "metadata": {
  "language_info": {
   "codemirror_mode": {
    "name": "ipython",
    "version": 3
   },
   "file_extension": ".py",
   "mimetype": "text/x-python",
   "name": "python",
   "nbconvert_exporter": "python",
   "pygments_lexer": "ipython3",
   "version": "3.8.6"
  },
  "orig_nbformat": 2,
  "kernelspec": {
   "name": "python386jvsc74a57bd01e9c2a13c611a968d5d60f522876a3fb49c9858d0bb099eea5d3d2133cbc0ccb",
   "display_name": "Python 3.8.6 64-bit ('EmotionAnalysis-cPNKhM6x': pipenv)"
  },
  "metadata": {
   "interpreter": {
    "hash": "1e9c2a13c611a968d5d60f522876a3fb49c9858d0bb099eea5d3d2133cbc0ccb"
   }
  }
 },
 "nbformat": 4,
 "nbformat_minor": 2,
 "cells": [
  {
   "cell_type": "code",
   "execution_count": 68,
   "metadata": {},
   "outputs": [
    {
     "output_type": "stream",
     "name": "stderr",
     "text": [
      "[nltk_data] Downloading package punkt to\n[nltk_data]     C:\\Users\\User\\AppData\\Roaming\\nltk_data...\n[nltk_data]   Package punkt is already up-to-date!\n[nltk_data] Downloading package stopwords to\n[nltk_data]     C:\\Users\\User\\AppData\\Roaming\\nltk_data...\n[nltk_data]   Package stopwords is already up-to-date!\n"
     ]
    }
   ],
   "source": [
    "# Importing libraries\n",
    "import nltk\n",
    "nltk.download('punkt')\n",
    "nltk.download('stopwords')\n",
    "from nltk.tokenize import word_tokenize\n",
    "from nltk.corpus import stopwords\n",
    "from nrclex import NRCLex\n",
    "from collections import Counter"
   ]
  },
  {
   "cell_type": "code",
   "execution_count": 69,
   "metadata": {},
   "outputs": [
    {
     "output_type": "stream",
     "name": "stdout",
     "text": [
      "['you', 're', 'off', 'to', 'great', 'places', 'today', 'is', 'your', 'day', 'your', 'mountain', 'is', 'waiting', 'so', 'get', 'on', 'your', 'way']\n"
     ]
    }
   ],
   "source": [
    "# Tokenizing the text\n",
    "text = open('read.txt', encoding='utf-8').read()\n",
    "lower_case = text.lower()\n",
    "tokenzied_words = word_tokenize(lower_case)\n",
    "tokenzied_words = [word for word in tokenzied_words if word.isalpha()]\n",
    "print(initial_tokenization)"
   ]
  },
  {
   "cell_type": "code",
   "execution_count": 70,
   "metadata": {},
   "outputs": [
    {
     "output_type": "stream",
     "name": "stdout",
     "text": [
      "['great', 'day', 'ahead']\n"
     ]
    }
   ],
   "source": [
    "# Removing Stopwords\n",
    "final_words = [word for word in tokenzied_words if word not in stopwords.words('english')]\n",
    "print(final_words)\n"
   ]
  },
  {
   "cell_type": "code",
   "execution_count": 71,
   "metadata": {},
   "outputs": [],
   "source": [
    "# Using NRCLex to find emotions\n",
    "emotions = []\n",
    "for i in range(len(final_words)):\n",
    "    text = NRCLex(final_words[i])\n",
    "    emotions.extend(text.affect_list)\n"
   ]
  },
  {
   "cell_type": "code",
   "execution_count": 74,
   "metadata": {},
   "outputs": [
    {
     "output_type": "stream",
     "name": "stdout",
     "text": [
      "Counter({'positive': 1})\n"
     ]
    }
   ],
   "source": [
    "# Finding the number of occurrences of each emotion\n",
    "emotion_count = Counter(emotions)\n",
    "print(emotion_count)"
   ]
  }
 ]
}